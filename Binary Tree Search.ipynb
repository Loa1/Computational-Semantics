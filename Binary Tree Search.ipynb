{
 "cells": [
  {
   "cell_type": "code",
   "execution_count": 71,
   "metadata": {},
   "outputs": [],
   "source": [
    "class Node:\n",
    "    \n",
    "    def __init__(self, firstname, age):\n",
    "        \n",
    "        self.firstname = firstname\n",
    "        self.age = age\n",
    "        self.left = None\n",
    "        self.right = None\n",
    "        \n",
    "    def addNode(self, firstname, age):\n",
    "        \n",
    "        if self.firstname == firstname:\n",
    "            print(\"Person is already in the Sorting Tree\")\n",
    "        elif self.firstname > firstname:\n",
    "            if self.left == None:\n",
    "                self.left = Node(firstname, age)\n",
    "            else:\n",
    "                self.left.addNode(firstname, age)\n",
    "        else:\n",
    "            if self.right == None:\n",
    "                self.right = Node(firstname, age)\n",
    "            else:\n",
    "                self.right.addNode(firstname, age)\n",
    "     \n",
    "    def search(self, firstname):\n",
    "        if self.firstname == firstname:\n",
    "            print(self.age)\n",
    "        \n",
    "        elif self.firstname > firstname:\n",
    "            if self.left == None:\n",
    "                print(\"Nobody found\")\n",
    "            else:\n",
    "                self.left.search(firstname)\n",
    "        else:\n",
    "            if self.right == None:\n",
    "                print(\"Nobody found\")\n",
    "            else:\n",
    "                self.right.search(firstname)"
   ]
  },
  {
   "cell_type": "code",
   "execution_count": 72,
   "metadata": {},
   "outputs": [
    {
     "name": "stdout",
     "output_type": "stream",
     "text": [
      "Person is already in the Sorting Tree\n"
     ]
    }
   ],
   "source": [
    "classroom = Node('Erik', '27')\n",
    "classroom.addNode('Nupur', '24')\n",
    "classroom.addNode('Juliet', '22')\n",
    "classroom.addNode('Loa', '20')\n",
    "classroom.addNode('Aashish', '26')\n",
    "classroom.addNode('Felix', '24')\n",
    "classroom.addNode('Jiayao', '25')\n",
    "classroom.addNode('Jiayao', '25')"
   ]
  },
  {
   "cell_type": "code",
   "execution_count": 73,
   "metadata": {},
   "outputs": [
    {
     "name": "stdout",
     "output_type": "stream",
     "text": [
      "22\n",
      "Nobody found\n"
     ]
    }
   ],
   "source": [
    "classroom.search('Juliet')\n",
    "classroom.search('Johannes')"
   ]
  },
  {
   "cell_type": "code",
   "execution_count": null,
   "metadata": {},
   "outputs": [],
   "source": []
  }
 ],
 "metadata": {
  "kernelspec": {
   "display_name": "Python 3",
   "language": "python",
   "name": "python3"
  },
  "language_info": {
   "codemirror_mode": {
    "name": "ipython",
    "version": 3
   },
   "file_extension": ".py",
   "mimetype": "text/x-python",
   "name": "python",
   "nbconvert_exporter": "python",
   "pygments_lexer": "ipython3",
   "version": "3.6.5"
  }
 },
 "nbformat": 4,
 "nbformat_minor": 2
}
